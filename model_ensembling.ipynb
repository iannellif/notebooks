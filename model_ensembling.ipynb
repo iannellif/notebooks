{
 "cells": [
  {
   "cell_type": "code",
   "execution_count": 1,
   "id": "b6d1ad72",
   "metadata": {},
   "outputs": [
    {
     "name": "stdout",
     "output_type": "stream",
     "text": [
      "tensor([[0.0786, 0.0476, 0.0314, 0.1683, 0.0628, 0.0547, 0.0318, 0.4381, 0.0126,\n",
      "         0.0741]])\n"
     ]
    }
   ],
   "source": [
    "import torch\n",
    "from torch.nn import Softmax\n",
    "\n",
    "# Dummy models for demonstration\n",
    "class Model(torch.nn.Module):\n",
    "    def forward(self, x):\n",
    "        return torch.nn.functional.softmax(x, dim=1)\n",
    "\n",
    "# Instantiate two models\n",
    "model1 = Model()\n",
    "model2 = Model()\n",
    "\n",
    "# Dummy input tensor\n",
    "input_tensor = torch.randn(1, 10)\n",
    "\n",
    "# Make predictions\n",
    "pred1 = model1(input_tensor)\n",
    "pred2 = model2(input_tensor)\n",
    "\n",
    "# Ensemble predictions by averaging\n",
    "ensemble_pred = (pred1 + pred2) / 2\n",
    "\n",
    "print(ensemble_pred)\n",
    "\n",
    "# OUT: tensor([[0.0284, 0.0401, 0.0854, 0.03,.])\n"
   ]
  },
  {
   "cell_type": "code",
   "execution_count": null,
   "id": "609206f6",
   "metadata": {},
   "outputs": [],
   "source": []
  }
 ],
 "metadata": {
  "kernelspec": {
   "display_name": "Python 3 (ipykernel)",
   "language": "python",
   "name": "python3"
  },
  "language_info": {
   "codemirror_mode": {
    "name": "ipython",
    "version": 3
   },
   "file_extension": ".py",
   "mimetype": "text/x-python",
   "name": "python",
   "nbconvert_exporter": "python",
   "pygments_lexer": "ipython3",
   "version": "3.10.12"
  }
 },
 "nbformat": 4,
 "nbformat_minor": 5
}
