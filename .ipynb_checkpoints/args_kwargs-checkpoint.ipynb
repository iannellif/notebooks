{
 "cells": [
  {
   "cell_type": "code",
   "execution_count": 2,
   "id": "efdd25d9",
   "metadata": {},
   "outputs": [
    {
     "name": "stdout",
     "output_type": "stream",
     "text": [
      "Positional arguments: (1, 2, 3)\n",
      "Keyword arguments: {'first': 'Alice', 'last': 'Smith'}\n"
     ]
    }
   ],
   "source": [
    "def flexible_function(*args, **kwargs):\n",
    "    print(\"Positional arguments:\", args)\n",
    "    print(\"Keyword arguments:\", kwargs)\n",
    "\n",
    "# Example usage\n",
    "flexible_function(\n",
    "1,2,3, first='Alice', last='Smith'\n",
    ")\n",
    "\n",
    "# Output\n",
    "# Positional arguments: (1, 2, 3)\n",
    "# Keyword arguments: {'first': 'Alice', 'last': 'Smith'}"
   ]
  },
  {
   "cell_type": "code",
   "execution_count": null,
   "id": "6d9e16cd",
   "metadata": {},
   "outputs": [],
   "source": []
  }
 ],
 "metadata": {
  "kernelspec": {
   "display_name": "Python 3 (ipykernel)",
   "language": "python",
   "name": "python3"
  },
  "language_info": {
   "codemirror_mode": {
    "name": "ipython",
    "version": 3
   },
   "file_extension": ".py",
   "mimetype": "text/x-python",
   "name": "python",
   "nbconvert_exporter": "python",
   "pygments_lexer": "ipython3",
   "version": "3.10.12"
  }
 },
 "nbformat": 4,
 "nbformat_minor": 5
}
