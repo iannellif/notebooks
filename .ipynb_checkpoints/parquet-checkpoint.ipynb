{
 "cells": [
  {
   "cell_type": "code",
   "execution_count": 1,
   "id": "7ddda45a",
   "metadata": {},
   "outputs": [],
   "source": [
    "import pandas as pd\n",
    "\n",
    "# Sample dataframe\n",
    "df = pd.DataFrame({\n",
    "    'A': range(1, 4),\n",
    "    'B': ['A', 'B', 'C'],\n",
    "    'C': [1.1, 2.2, 3.3]\n",
    "})\n",
    "\n",
    "# Save to Parquet\n",
    "df.to_parquet('data/dataframe.parquet')"
   ]
  },
  {
   "cell_type": "code",
   "execution_count": 2,
   "id": "a5b43a9c",
   "metadata": {},
   "outputs": [
    {
     "name": "stdout",
     "output_type": "stream",
     "text": [
      "   A    C\n",
      "0  1  1.1\n",
      "1  2  2.2\n",
      "2  3  3.3\n",
      "   A  B    C\n",
      "0  1  A  1.1\n",
      "1  2  B  2.2\n",
      "2  3  C  3.3\n"
     ]
    }
   ],
   "source": [
    "# Load specific columns from Parquet\n",
    "columns_to_load = ['A', 'C']\n",
    "df_subset = pd.read_parquet(\n",
    "    'data/dataframe.parquet',\n",
    "    columns=columns_to_load\n",
    ")\n",
    "\n",
    "print(df_subset)\n",
    "\n",
    "# Load entire Parquet file\n",
    "df_full = pd.read_parquet(\n",
    "    'data/dataframe.parquet'\n",
    ")\n",
    "\n",
    "print(df_full)\n"
   ]
  },
  {
   "cell_type": "code",
   "execution_count": null,
   "id": "4b83d4ba",
   "metadata": {},
   "outputs": [],
   "source": []
  }
 ],
 "metadata": {
  "kernelspec": {
   "display_name": "Python 3 (ipykernel)",
   "language": "python",
   "name": "python3"
  },
  "language_info": {
   "codemirror_mode": {
    "name": "ipython",
    "version": 3
   },
   "file_extension": ".py",
   "mimetype": "text/x-python",
   "name": "python",
   "nbconvert_exporter": "python",
   "pygments_lexer": "ipython3",
   "version": "3.10.12"
  }
 },
 "nbformat": 4,
 "nbformat_minor": 5
}
