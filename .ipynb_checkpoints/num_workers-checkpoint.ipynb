{
 "cells": [
  {
   "cell_type": "markdown",
   "id": "d322cca3",
   "metadata": {},
   "source": [
    "To speed up your data processing in PyTorch, use the torch.utils.data.DataLoader with num_workers and pin_memory parameters. \n",
    "\n",
    "\n",
    "\n",
    "Setting num_workers to a value greater than 0 allows data loading and augmentation to happen in parallel with model training, using separate worker subprocesses. \n",
    "\n",
    "\n",
    "\n",
    "Adjust num_workers based on your system's specifications and data location for optimal performance. For GPU-based training, set pin_memory=True. This makes DataLoader allocate data in pinned (page-locked) memory, facilitating faster data transfer to the GPU."
   ]
  },
  {
   "cell_type": "code",
   "execution_count": 3,
   "id": "8623c3d0",
   "metadata": {},
   "outputs": [],
   "source": [
    "from torch.utils.data import DataLoader, Dataset\n",
    "\n",
    "# Example dataset\n",
    "class MyDataset(Dataset):\n",
    "  def __len__(self):\n",
    "    # Example size\n",
    "    return 1000\n",
    "\n",
    "def __getitem__(self, index):\n",
    "  # Returning data and a label as an example\n",
    " return (index, index % 2)\n",
    "\n",
    "# Creating a DataLoader instance\n",
    "dataset = MyDataset()\n",
    "\n",
    "data_loader = DataLoader(dataset, batch_size=32, num_workers=4, pin_memory=True)\n"
   ]
  },
  {
   "cell_type": "code",
   "execution_count": null,
   "id": "9a00c4e0",
   "metadata": {},
   "outputs": [],
   "source": []
  }
 ],
 "metadata": {
  "kernelspec": {
   "display_name": "Python 3 (ipykernel)",
   "language": "python",
   "name": "python3"
  },
  "language_info": {
   "codemirror_mode": {
    "name": "ipython",
    "version": 3
   },
   "file_extension": ".py",
   "mimetype": "text/x-python",
   "name": "python",
   "nbconvert_exporter": "python",
   "pygments_lexer": "ipython3",
   "version": "3.10.12"
  }
 },
 "nbformat": 4,
 "nbformat_minor": 5
}
