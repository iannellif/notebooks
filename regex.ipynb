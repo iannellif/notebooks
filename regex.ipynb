{
 "cells": [
  {
   "cell_type": "code",
   "execution_count": 1,
   "id": "897098e0",
   "metadata": {},
   "outputs": [
    {
     "name": "stdout",
     "output_type": "stream",
     "text": [
      "Email found: support@example.comfor\n"
     ]
    }
   ],
   "source": [
    "import re\n",
    "\n",
    "# Define a pattern to \n",
    "# match email addresses\n",
    "email_pattern = (\n",
    "    \"[a-zA-Z0-9._%+-]+@[a-zA-Z0-9.-]\"\n",
    "    \"+\\.[a-zA-Z]{2,}\"\n",
    ")\n",
    "\n",
    "text = (\n",
    "    \"Please contact us at support@example.com\"\n",
    "    \"for assistance.\"\n",
    ")\n",
    "\n",
    "# Search for the pattern in the text\n",
    "match = re.search(email_pattern, text)\n",
    "\n",
    "if match:\n",
    "    print(\"Email found:\", match.group())\n",
    "else:\n",
    "    print(\"No email found in the text.\")"
   ]
  },
  {
   "cell_type": "code",
   "execution_count": null,
   "id": "1174eb35",
   "metadata": {},
   "outputs": [],
   "source": []
  }
 ],
 "metadata": {
  "kernelspec": {
   "display_name": "Python 3 (ipykernel)",
   "language": "python",
   "name": "python3"
  },
  "language_info": {
   "codemirror_mode": {
    "name": "ipython",
    "version": 3
   },
   "file_extension": ".py",
   "mimetype": "text/x-python",
   "name": "python",
   "nbconvert_exporter": "python",
   "pygments_lexer": "ipython3",
   "version": "3.10.12"
  }
 },
 "nbformat": 4,
 "nbformat_minor": 5
}
