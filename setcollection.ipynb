{
 "cells": [
  {
   "cell_type": "code",
   "execution_count": 1,
   "id": "5b59662d",
   "metadata": {},
   "outputs": [
    {
     "data": {
      "text/plain": [
       "{1, 2, 3, 5}"
      ]
     },
     "execution_count": 1,
     "metadata": {},
     "output_type": "execute_result"
    }
   ],
   "source": [
    "my_list = [1, 2, 2, 2, 2, 3, 5]\n",
    "\n",
    "# Convert to set\n",
    "my_set = set(my_list)\n",
    "\n",
    "\n",
    "my_set"
   ]
  },
  {
   "cell_type": "code",
   "execution_count": 2,
   "id": "8bba0356",
   "metadata": {},
   "outputs": [
    {
     "name": "stdout",
     "output_type": "stream",
     "text": [
      "True\n",
      "CPU times: user 36 µs, sys: 0 ns, total: 36 µs\n",
      "Wall time: 39.8 µs\n"
     ]
    }
   ],
   "source": [
    "%time print(3 in my_list)"
   ]
  },
  {
   "cell_type": "code",
   "execution_count": 3,
   "id": "6979b0e0",
   "metadata": {},
   "outputs": [
    {
     "name": "stdout",
     "output_type": "stream",
     "text": [
      "True\n",
      "CPU times: user 27 µs, sys: 6 µs, total: 33 µs\n",
      "Wall time: 36.2 µs\n"
     ]
    }
   ],
   "source": [
    "%time print(3 in my_set)"
   ]
  },
  {
   "cell_type": "code",
   "execution_count": null,
   "id": "7e3ab2e9",
   "metadata": {},
   "outputs": [],
   "source": []
  }
 ],
 "metadata": {
  "kernelspec": {
   "display_name": "Python 3 (ipykernel)",
   "language": "python",
   "name": "python3"
  },
  "language_info": {
   "codemirror_mode": {
    "name": "ipython",
    "version": 3
   },
   "file_extension": ".py",
   "mimetype": "text/x-python",
   "name": "python",
   "nbconvert_exporter": "python",
   "pygments_lexer": "ipython3",
   "version": "3.10.12"
  }
 },
 "nbformat": 4,
 "nbformat_minor": 5
}
