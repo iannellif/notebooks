{
 "cells": [
  {
   "cell_type": "code",
   "execution_count": 1,
   "metadata": {},
   "outputs": [
    {
     "name": "stdout",
     "output_type": "stream",
     "text": [
      "MyClass(attribute='example')\n",
      "MyClass with attribute example\n",
      "MyClass with attribute example\n"
     ]
    }
   ],
   "source": [
    "class MyClass:\n",
    "    def __init__(self, attribute):\n",
    "        self.attribute = attribute\n",
    "\n",
    "    def __repr__(self):\n",
    "        return f\"MyClass(attribute={self.attribute!r})\"\n",
    "\n",
    "    def __str__(self):\n",
    "        return f\"MyClass with attribute {self.attribute}\"\n",
    "\n",
    "# Creating an instance of MyClass\n",
    "obj = MyClass(\"example\")\n",
    "\n",
    "# Using repr() to get the official string representation\n",
    "print(repr(obj))  # Output: MyClass(attribute='example')\n",
    "\n",
    "# Using str() to get the readable string representation\n",
    "print(str(obj))   # Output: MyClass with attribute example\n",
    "\n",
    "# Directly printing the object will use __str__() by default\n",
    "print(obj)        # Output: MyClass with attribute example\n"
   ]
  },
  {
   "cell_type": "code",
   "execution_count": null,
   "metadata": {},
   "outputs": [],
   "source": []
  }
 ],
 "metadata": {
  "kernelspec": {
   "display_name": "Python 3",
   "language": "python",
   "name": "python3"
  },
  "language_info": {
   "codemirror_mode": {
    "name": "ipython",
    "version": 3
   },
   "file_extension": ".py",
   "mimetype": "text/x-python",
   "name": "python",
   "nbconvert_exporter": "python",
   "pygments_lexer": "ipython3",
   "version": "3.10.12"
  }
 },
 "nbformat": 4,
 "nbformat_minor": 2
}
